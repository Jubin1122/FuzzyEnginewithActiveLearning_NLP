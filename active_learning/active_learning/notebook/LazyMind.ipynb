{
 "cells": [
  {
   "cell_type": "code",
   "execution_count": 67,
   "metadata": {},
   "outputs": [],
   "source": [
    "import pandas as pd\n",
    "import xlwings as xw\n",
    "from pathlib import Path\n",
    "import os\n",
    "import numpy as np\n",
    "import warnings\n",
    "warnings.filterwarnings('ignore')\n",
    "import pickle"
   ]
  },
  {
   "cell_type": "code",
   "execution_count": 68,
   "metadata": {},
   "outputs": [],
   "source": [
    "import os\n",
    "import time\n",
    "import json\n",
    "import pickle\n",
    "import numpy as np\n",
    "import pandas as pd\n",
    "import matplotlib.pyplot as plt\n",
    "import matplotlib.mlab as mlab\n",
    "from scipy import stats\n",
    "from pylab import rcParams\n",
    "from sklearn.utils import check_random_state\n",
    "# from sklearn.datasets import load_digits\n",
    "# from sklearn.datasets import fetch_mldata\n",
    "from sklearn.decomposition import PCA\n",
    "from sklearn.preprocessing import scale\n",
    "from sklearn.preprocessing import MinMaxScaler\n",
    "from sklearn.cluster import KMeans\n",
    "from sklearn.mixture import GaussianMixture\n",
    "from sklearn.svm import LinearSVC, SVC\n",
    "from sklearn.linear_model import LinearRegression\n",
    "from sklearn.linear_model import LogisticRegression\n",
    "from sklearn import metrics\n",
    "from sklearn.metrics import pairwise_distances_argmin_min\n",
    "from sklearn.metrics import confusion_matrix\n",
    "from sklearn.metrics import PrecisionRecallDisplay\n",
    "from sklearn.metrics import average_precision_score\n",
    "from sklearn.model_selection import cross_val_score\n",
    "from sklearn.model_selection import train_test_split\n",
    "from sklearn.ensemble import RandomForestClassifier, \\\n",
    "GradientBoostingClassifier\n",
    "\n",
    "max_queried = 500\n",
    "# https://scikit-learn.org/stable/auto_examples/model_selection/plot_precision_recall.html"
   ]
  },
  {
   "cell_type": "markdown",
   "metadata": {},
   "source": [
    "#### Unlocking files and saving it in the local"
   ]
  },
  {
   "cell_type": "code",
   "execution_count": 69,
   "metadata": {},
   "outputs": [],
   "source": [
    "# def unlock_file(data_file, file_nm):\n",
    "#     path = '../data'\n",
    "#     workbook = xw.Book(os.path.join(path, data_file))\n",
    "#     df = workbook.sheets[0].range('A1').options(pd.DataFrame, \n",
    "#                                             header=1,\n",
    "#                                             index=False, \n",
    "#                                             expand='table').value\n",
    "#     new_dir = \"../data/extract\"\n",
    "#     Path().mkdir(parents=True, exist_ok=True)\n",
    "#     df.to_csv(os.path.join(new_dir, file_nm), index =False, header= True)\n"
   ]
  },
  {
   "cell_type": "code",
   "execution_count": 70,
   "metadata": {},
   "outputs": [],
   "source": [
    "# data_file = 'persona_output.xlsx'\n",
    "# file_nm = 'full_output.csv'\n",
    "# unlock_file(data_file, file_nm) "
   ]
  },
  {
   "cell_type": "code",
   "execution_count": 79,
   "metadata": {},
   "outputs": [
    {
     "name": "stdout",
     "output_type": "stream",
     "text": [
      "<class 'pandas.core.frame.DataFrame'>\n",
      "RangeIndex: 7150 entries, 0 to 7149\n",
      "Data columns (total 13 columns):\n",
      " #   Column              Non-Null Count  Dtype  \n",
      "---  ------              --------------  -----  \n",
      " 0   grpcis              7150 non-null   float64\n",
      " 1   customer_no         7150 non-null   float64\n",
      " 2   director_name       7150 non-null   object \n",
      " 3   match-komal         7150 non-null   object \n",
      " 4   passport_number     4436 non-null   object \n",
      " 5   visa_no             2368 non-null   object \n",
      " 6   mobile_1            2296 non-null   float64\n",
      " 7   mobile_2            1688 non-null   float64\n",
      " 8   national_id_number  19 non-null     float64\n",
      " 9   Age                 5250 non-null   float64\n",
      " 10  Group               7150 non-null   object \n",
      " 11  fuzzy_grp_nms       7150 non-null   object \n",
      " 12  label               7150 non-null   bool   \n",
      "dtypes: bool(1), float64(6), object(6)\n",
      "memory usage: 677.4+ KB\n"
     ]
    },
    {
     "data": {
      "text/plain": [
       "None"
      ]
     },
     "metadata": {},
     "output_type": "display_data"
    },
    {
     "name": "stdout",
     "output_type": "stream",
     "text": [
      "<class 'pandas.core.frame.DataFrame'>\n",
      "Int64Index: 56858 entries, 0 to 56858\n",
      "Data columns (total 14 columns):\n",
      " #   Column              Non-Null Count  Dtype  \n",
      "---  ------              --------------  -----  \n",
      " 0   grpcis              56858 non-null  float64\n",
      " 1   customer_no         56858 non-null  float64\n",
      " 2   director_name       56853 non-null  object \n",
      " 3   passport_number     36384 non-null  object \n",
      " 4   visa_no             21074 non-null  object \n",
      " 5   mobile_1            23022 non-null  float64\n",
      " 6   mobile_2            15776 non-null  float64\n",
      " 7   e_mail              14061 non-null  object \n",
      " 8   national_id_number  211 non-null    object \n",
      " 9   age                 40440 non-null  float64\n",
      " 10  id                  56848 non-null  float64\n",
      " 11  group               56849 non-null  object \n",
      " 12  fuzzy_grp_nms_f     56847 non-null  object \n",
      " 13  dob                 4 non-null      object \n",
      "dtypes: float64(6), object(8)\n",
      "memory usage: 6.5+ MB\n"
     ]
    },
    {
     "data": {
      "text/plain": [
       "None"
      ]
     },
     "metadata": {},
     "output_type": "display_data"
    },
    {
     "name": "stdout",
     "output_type": "stream",
     "text": [
      "<class 'pandas.core.frame.DataFrame'>\n",
      "Int64Index: 56858 entries, 0 to 56857\n",
      "Data columns (total 15 columns):\n",
      " #   Column              Non-Null Count  Dtype  \n",
      "---  ------              --------------  -----  \n",
      " 0   grpcis              56858 non-null  float64\n",
      " 1   customer_no         56858 non-null  float64\n",
      " 2   director_name       56853 non-null  object \n",
      " 3   passport_number     36384 non-null  object \n",
      " 4   visa_no             21074 non-null  object \n",
      " 5   mobile_1            23022 non-null  float64\n",
      " 6   mobile_2            15776 non-null  float64\n",
      " 7   e_mail              14061 non-null  object \n",
      " 8   national_id_number  211 non-null    object \n",
      " 9   age                 40440 non-null  float64\n",
      " 10  id                  56848 non-null  float64\n",
      " 11  group               56849 non-null  object \n",
      " 12  fuzzy_grp_nms_f     56847 non-null  object \n",
      " 13  dob                 4 non-null      object \n",
      " 14  label               6567 non-null   object \n",
      "dtypes: float64(6), object(9)\n",
      "memory usage: 6.9+ MB\n"
     ]
    },
    {
     "data": {
      "text/plain": [
       "None"
      ]
     },
     "metadata": {},
     "output_type": "display_data"
    }
   ],
   "source": [
    "pth_1 = '../data/extract/p_labels.csv'\n",
    "pth_2  = '../data/extract/full_output.csv'\n",
    "df1 = pd.read_csv(pth_1)\n",
    "df2 = pd.read_csv(pth_2)\n",
    "df2 = df2[~df2['grpcis'].str.contains('[a-zA-Z]')]\n",
    "df2['grpcis'] = df2['grpcis'].astype(float)\n",
    "df2['customer_no'] = df2['customer_no'].astype(float)\n",
    "display(df1.info())\n",
    "display(df2.info())\n",
    "df_f  = pd.merge(df2, df1[['grpcis', 'customer_no', 'director_name', 'label']], how='left', left_on=['grpcis', 'customer_no', 'director_name'], right_on=['grpcis', 'customer_no', 'director_name'])\n",
    "display(df_f.info())"
   ]
  },
  {
   "cell_type": "code",
   "execution_count": 80,
   "metadata": {},
   "outputs": [
    {
     "name": "stdout",
     "output_type": "stream",
     "text": [
      "<class 'pandas.core.frame.DataFrame'>\n",
      "Int64Index: 56858 entries, 0 to 56857\n",
      "Data columns (total 5 columns):\n",
      " #   Column           Non-Null Count  Dtype  \n",
      "---  ------           --------------  -----  \n",
      " 0   grpcis           56858 non-null  float64\n",
      " 1   customer_no      56858 non-null  float64\n",
      " 2   director_name    56853 non-null  object \n",
      " 3   fuzzy_grp_nms_f  56847 non-null  object \n",
      " 4   label            6567 non-null   float64\n",
      "dtypes: float64(3), object(2)\n",
      "memory usage: 2.6+ MB\n"
     ]
    },
    {
     "data": {
      "text/plain": [
       "None"
      ]
     },
     "metadata": {},
     "output_type": "display_data"
    },
    {
     "data": {
      "text/html": [
       "<div>\n",
       "<style scoped>\n",
       "    .dataframe tbody tr th:only-of-type {\n",
       "        vertical-align: middle;\n",
       "    }\n",
       "\n",
       "    .dataframe tbody tr th {\n",
       "        vertical-align: top;\n",
       "    }\n",
       "\n",
       "    .dataframe thead th {\n",
       "        text-align: right;\n",
       "    }\n",
       "</style>\n",
       "<table border=\"1\" class=\"dataframe\">\n",
       "  <thead>\n",
       "    <tr style=\"text-align: right;\">\n",
       "      <th></th>\n",
       "      <th>grpcis</th>\n",
       "      <th>customer_no</th>\n",
       "      <th>director_name</th>\n",
       "      <th>fuzzy_grp_nms_f</th>\n",
       "      <th>label</th>\n",
       "    </tr>\n",
       "  </thead>\n",
       "  <tbody>\n",
       "    <tr>\n",
       "      <th>0</th>\n",
       "      <td>13157197.0</td>\n",
       "      <td>13157181.0</td>\n",
       "      <td>JONATHAN PETER MCGLOIN</td>\n",
       "      <td>JONATHAN PETER MCGLOIN</td>\n",
       "      <td>NaN</td>\n",
       "    </tr>\n",
       "    <tr>\n",
       "      <th>1</th>\n",
       "      <td>13157197.0</td>\n",
       "      <td>13157181.0</td>\n",
       "      <td>MELANIE MARIA MENEZES FERNANDES</td>\n",
       "      <td>MELANIE MARIA MENEZES FERNANDES</td>\n",
       "      <td>NaN</td>\n",
       "    </tr>\n",
       "    <tr>\n",
       "      <th>2</th>\n",
       "      <td>13157197.0</td>\n",
       "      <td>13157789.0</td>\n",
       "      <td>MUHAMMAD ASIF SIDDIQUE</td>\n",
       "      <td>MUHAMMAD ASIF SIDDIQUE</td>\n",
       "      <td>NaN</td>\n",
       "    </tr>\n",
       "    <tr>\n",
       "      <th>3</th>\n",
       "      <td>13157197.0</td>\n",
       "      <td>13157181.0</td>\n",
       "      <td>ZAMAN KOCHU KUNJU</td>\n",
       "      <td>ZAMAN KOCHU KUNJU</td>\n",
       "      <td>NaN</td>\n",
       "    </tr>\n",
       "    <tr>\n",
       "      <th>4</th>\n",
       "      <td>13157197.0</td>\n",
       "      <td>13156069.0</td>\n",
       "      <td>RAMAPURATH AJITKUMAR MENON</td>\n",
       "      <td>RAMAPURATH AJITKUMAR MENON</td>\n",
       "      <td>NaN</td>\n",
       "    </tr>\n",
       "  </tbody>\n",
       "</table>\n",
       "</div>"
      ],
      "text/plain": [
       "       grpcis  customer_no                    director_name  \\\n",
       "0  13157197.0   13157181.0           JONATHAN PETER MCGLOIN   \n",
       "1  13157197.0   13157181.0  MELANIE MARIA MENEZES FERNANDES   \n",
       "2  13157197.0   13157789.0           MUHAMMAD ASIF SIDDIQUE   \n",
       "3  13157197.0   13157181.0                ZAMAN KOCHU KUNJU   \n",
       "4  13157197.0   13156069.0       RAMAPURATH AJITKUMAR MENON   \n",
       "\n",
       "                   fuzzy_grp_nms_f  label  \n",
       "0           JONATHAN PETER MCGLOIN    NaN  \n",
       "1  MELANIE MARIA MENEZES FERNANDES    NaN  \n",
       "2           MUHAMMAD ASIF SIDDIQUE    NaN  \n",
       "3                ZAMAN KOCHU KUNJU    NaN  \n",
       "4       RAMAPURATH AJITKUMAR MENON    NaN  "
      ]
     },
     "metadata": {},
     "output_type": "display_data"
    }
   ],
   "source": [
    "cls = ['grpcis', 'customer_no', 'director_name', 'fuzzy_grp_nms_f', 'label']\n",
    "df1_new = df_f[cls]\n",
    "df1_new.replace({False:0, True:1}, inplace=True)\n",
    "display(df1_new.info())\n",
    "display(df1_new.head())"
   ]
  },
  {
   "cell_type": "code",
   "execution_count": 81,
   "metadata": {},
   "outputs": [],
   "source": [
    "## Spliting the data\n",
    "X, y = df1_new[['grpcis', 'customer_no', 'director_name', 'fuzzy_grp_nms_f']], df1_new[['label']]"
   ]
  },
  {
   "cell_type": "code",
   "execution_count": 82,
   "metadata": {},
   "outputs": [],
   "source": [
    "X_train_full,X_test,y_train_full,y_test=train_test_split(X,y,test_size=0.15,random_state=123)"
   ]
  },
  {
   "cell_type": "code",
   "execution_count": 83,
   "metadata": {},
   "outputs": [
    {
     "name": "stdout",
     "output_type": "stream",
     "text": [
      "48329\n"
     ]
    }
   ],
   "source": [
    "## An experiment with SVM\n",
    "inital_lb_samp =  250\n",
    "X_full_shape = X_train_full.shape[0]\n",
    "print(X_full_shape)"
   ]
  },
  {
   "cell_type": "code",
   "execution_count": 84,
   "metadata": {},
   "outputs": [
    {
     "data": {
      "text/plain": [
       "(56858, 5)"
      ]
     },
     "metadata": {},
     "output_type": "display_data"
    },
    {
     "data": {
      "text/plain": [
       "(6567, 5)"
      ]
     },
     "metadata": {},
     "output_type": "display_data"
    }
   ],
   "source": [
    "display(df1_new.shape)\n",
    "df1_n1 =  df1_new.dropna(subset=['label'], how = 'all')\n",
    "display(df1_n1.shape)"
   ]
  },
  {
   "cell_type": "code",
   "execution_count": 91,
   "metadata": {},
   "outputs": [],
   "source": [
    "## Spliting the data\n",
    "X_lab, y_lab = df1_n1[['grpcis', 'customer_no', 'director_name', 'fuzzy_grp_nms_f']], df1_n1[['label']]\n",
    "# X_train_full_lab, X_test_lab, y_train_full_lab, y_test_lab=train_test_split(X,y,test_size=0.15,random_state=123)"
   ]
  },
  {
   "cell_type": "code",
   "execution_count": 92,
   "metadata": {},
   "outputs": [
    {
     "data": {
      "text/plain": [
       "6567"
      ]
     },
     "execution_count": 92,
     "metadata": {},
     "output_type": "execute_result"
    }
   ],
   "source": [
    "X_lab.shape[0]"
   ]
  },
  {
   "cell_type": "markdown",
   "metadata": {},
   "source": [
    "### initialize process by applying base learner to labeled training data set to obtain Classifier"
   ]
  },
  {
   "cell_type": "code",
   "execution_count": 98,
   "metadata": {},
   "outputs": [
    {
     "name": "stdout",
     "output_type": "stream",
     "text": [
      "initial random chosen samples (250,)\n",
      "label\n",
      "1.0      217\n",
      "0.0       33\n",
      "dtype: int64\n",
      "(250,)\n",
      "(250, 4)\n",
      "initial train set: (250, 4) (250,) unique(labels): [ 33 217] [0 1]\n"
     ]
    }
   ],
   "source": [
    "random_state = check_random_state(0)\n",
    "\n",
    "permutation = np.random.choice(X_lab.shape[0],\n",
    "                                inital_lb_samp,\n",
    "                                replace=False)\n",
    "print('initial random chosen samples', permutation.shape)\n",
    "\n",
    "X_train = X_lab.iloc[permutation]\n",
    "# print('Training features shape', X_train)\n",
    "y_train = y_lab.iloc[permutation]\n",
    "# print('Test features shape', X_train)\n",
    "print(y_train.value_counts())\n",
    "X_train = X_train.values\n",
    "y_train = y_train.values\n",
    "X_train = X_train.reshape((X_train.shape[0], -1))\n",
    "\n",
    "y_train = y_train[:,0]\n",
    "print(y_train.shape)\n",
    "print(X_train.shape)\n",
    "bin_count = np.bincount(y_train.astype('int64'))\n",
    "unique = np.unique(y_train.astype('int64'))\n",
    "\n",
    "print (\n",
    "    'initial train set:',\n",
    "    X_train.shape,\n",
    "    y_train.shape,\n",
    "    'unique(labels):',\n",
    "    bin_count,\n",
    "    unique\n",
    "    )\n",
    "\n"
   ]
  },
  {
   "cell_type": "code",
   "execution_count": 99,
   "metadata": {},
   "outputs": [
    {
     "name": "stdout",
     "output_type": "stream",
     "text": [
      "Queried: 250\t samplecount: [250]\n"
     ]
    }
   ],
   "source": [
    "queried  = inital_lb_samp\n",
    "samplecount = [inital_lb_samp]\n",
    "print(f'Queried: {queried}\\t samplecount: {samplecount}')"
   ]
  },
  {
   "cell_type": "markdown",
   "metadata": {},
   "source": [
    "### assign the val set the rest of the 'unlabelled' training data"
   ]
  },
  {
   "cell_type": "code",
   "execution_count": 104,
   "metadata": {},
   "outputs": [
    {
     "name": "stdout",
     "output_type": "stream",
     "text": [
      "val set: (56608, 4) (56608, 1) (250,)\n"
     ]
    }
   ],
   "source": [
    "X_val = np.array([])\n",
    "y_val = np.array([])\n",
    "X_val = np.copy(X)\n",
    "X_val = np.delete(X_val, permutation, axis=0)\n",
    "\n",
    "y_val = np.copy(y)\n",
    "y_val = np.delete(y_val, permutation, axis=0)\n",
    "\n",
    "print ('val set:', X_val.shape, y_val.shape, permutation.shape)"
   ]
  },
  {
   "cell_type": "code",
   "execution_count": 102,
   "metadata": {},
   "outputs": [
    {
     "name": "stdout",
     "output_type": "stream",
     "text": [
      "(56608, 4) (56858, 4)\n"
     ]
    }
   ],
   "source": []
  },
  {
   "cell_type": "code",
   "execution_count": 103,
   "metadata": {},
   "outputs": [
    {
     "name": "stdout",
     "output_type": "stream",
     "text": [
      "(56608, 1) (56858, 1)\n"
     ]
    }
   ],
   "source": []
  },
  {
   "cell_type": "code",
   "execution_count": 71,
   "metadata": {},
   "outputs": [
    {
     "name": "stdout",
     "output_type": "stream",
     "text": [
      "val set: (6900, 4) (6900, 1) (250,)\n",
      "\n"
     ]
    }
   ],
   "source": []
  },
  {
   "cell_type": "code",
   "execution_count": null,
   "metadata": {},
   "outputs": [],
   "source": []
  }
 ],
 "metadata": {
  "interpreter": {
   "hash": "2659eb6637c6e64edc06dd0e46345b29e6d373c66e428362f73297e1ed5e2c69"
  },
  "kernelspec": {
   "display_name": "Python 3.8.0 64-bit",
   "language": "python",
   "name": "python3"
  },
  "language_info": {
   "codemirror_mode": {
    "name": "ipython",
    "version": 3
   },
   "file_extension": ".py",
   "mimetype": "text/x-python",
   "name": "python",
   "nbconvert_exporter": "python",
   "pygments_lexer": "ipython3",
   "version": "3.8.0"
  },
  "orig_nbformat": 4
 },
 "nbformat": 4,
 "nbformat_minor": 2
}
