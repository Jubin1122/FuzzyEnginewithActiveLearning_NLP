{
 "cells": [
  {
   "cell_type": "code",
   "execution_count": 1,
   "metadata": {},
   "outputs": [],
   "source": [
    "import pandas as pd\n",
    "import xlwings as xw\n",
    "from pathlib import Path\n",
    "import os\n",
    "import numpy as np\n",
    "import warnings\n",
    "warnings.filterwarnings('ignore')\n",
    "import pickle\n",
    "import time\n",
    "from numpy import mean\n",
    "from numpy import std\n",
    "from sklearn.datasets import make_classification\n",
    "from sklearn.model_selection import cross_val_score\n",
    "from sklearn.model_selection import RepeatedStratifiedKFold\n",
    "from sklearn.ensemble import RandomForestClassifier\n",
    "from sklearn import preprocessing\n",
    "import itertools\n",
    "\n",
    "import matplotlib.pyplot as plt\n",
    "import numpy as np\n",
    "from sklearn import svm\n",
    "from sklearn.model_selection import KFold\n",
    "from sklearn.metrics import confusion_matrix\n",
    "from xgboost import XGBClassifier"
   ]
  },
  {
   "cell_type": "markdown",
   "metadata": {},
   "source": [
    "### Data Analysis"
   ]
  },
  {
   "cell_type": "code",
   "execution_count": 2,
   "metadata": {},
   "outputs": [],
   "source": [
    "pth_1 = '../data/extract/p_labels.csv'\n",
    "pth_2  = '../data/extract/full_output.csv'\n",
    "df1 = pd.read_csv(pth_1)\n",
    "df2 = pd.read_csv(pth_2)\n",
    "df2 = df2[~df2['grpcis'].str.contains('[a-zA-Z]')]\n",
    "df2['grpcis'] = df2['grpcis'].astype(float)\n",
    "df2['customer_no'] = df2['customer_no'].astype(float)\n",
    "# display(df1.info())\n",
    "# display(df2.info())\n",
    "df_f  = pd.merge(df2, df1[['grpcis', 'customer_no', 'director_name', 'label']], how='left', left_on=['grpcis', 'customer_no', 'director_name'], right_on=['grpcis', 'customer_no', 'director_name'])\n",
    "# display(df_f.info())"
   ]
  },
  {
   "cell_type": "code",
   "execution_count": 3,
   "metadata": {},
   "outputs": [
    {
     "name": "stdout",
     "output_type": "stream",
     "text": [
      "<class 'pandas.core.frame.DataFrame'>\n",
      "Int64Index: 56858 entries, 0 to 56858\n",
      "Data columns (total 14 columns):\n",
      " #   Column              Non-Null Count  Dtype  \n",
      "---  ------              --------------  -----  \n",
      " 0   grpcis              56858 non-null  float64\n",
      " 1   customer_no         56858 non-null  float64\n",
      " 2   director_name       56853 non-null  object \n",
      " 3   passport_number     36384 non-null  object \n",
      " 4   visa_no             21074 non-null  object \n",
      " 5   mobile_1            23022 non-null  float64\n",
      " 6   mobile_2            15776 non-null  float64\n",
      " 7   e_mail              14061 non-null  object \n",
      " 8   national_id_number  211 non-null    object \n",
      " 9   age                 40440 non-null  float64\n",
      " 10  id                  56848 non-null  float64\n",
      " 11  group               56849 non-null  object \n",
      " 12  fuzzy_grp_nms_f     56847 non-null  object \n",
      " 13  dob                 4 non-null      object \n",
      "dtypes: float64(6), object(8)\n",
      "memory usage: 6.5+ MB\n"
     ]
    }
   ],
   "source": [
    "df2.info()"
   ]
  },
  {
   "cell_type": "code",
   "execution_count": 4,
   "metadata": {},
   "outputs": [
    {
     "data": {
      "text/plain": [
       "(7150, 13)"
      ]
     },
     "execution_count": 4,
     "metadata": {},
     "output_type": "execute_result"
    }
   ],
   "source": [
    "df1.shape"
   ]
  },
  {
   "cell_type": "code",
   "execution_count": 5,
   "metadata": {},
   "outputs": [],
   "source": [
    "cls = ['grpcis', 'customer_no', 'director_name', 'fuzzy_grp_nms', 'label']\n",
    "df1_new = df1[cls]\n",
    "df1_new.replace({False:0, True:1}, inplace=True)"
   ]
  },
  {
   "cell_type": "code",
   "execution_count": 6,
   "metadata": {},
   "outputs": [
    {
     "data": {
      "text/plain": [
       "array([0, 1], dtype=int64)"
      ]
     },
     "metadata": {},
     "output_type": "display_data"
    },
    {
     "data": {
      "text/plain": [
       "array([0, 1], dtype=int64)"
      ]
     },
     "metadata": {},
     "output_type": "display_data"
    },
    {
     "data": {
      "text/plain": [
       "array([ 921, 6229], dtype=int64)"
      ]
     },
     "metadata": {},
     "output_type": "display_data"
    }
   ],
   "source": [
    "class_names = df1_new['label'].unique()\n",
    "display(class_names)\n",
    "\n",
    "labels, counts = np.unique(df1_new['label'], return_counts=True)\n",
    "display(labels, counts)"
   ]
  },
  {
   "cell_type": "code",
   "execution_count": 7,
   "metadata": {},
   "outputs": [
    {
     "data": {
      "text/plain": [
       "1    6229\n",
       "0     921\n",
       "Name: label, dtype: int64"
      ]
     },
     "execution_count": 7,
     "metadata": {},
     "output_type": "execute_result"
    }
   ],
   "source": [
    "df1_new['label'].value_counts()"
   ]
  },
  {
   "cell_type": "markdown",
   "metadata": {},
   "source": [
    "### Final Model "
   ]
  },
  {
   "cell_type": "code",
   "execution_count": 8,
   "metadata": {},
   "outputs": [],
   "source": [
    "class MultiColumnLabelEncoder:\n",
    "\n",
    "    def __init__(self, columns=None):\n",
    "        self.columns = columns # array of column names to encode\n",
    "        # cat_cols = ['director_name', 'fuzzy_grp_nms']\n",
    "        \n",
    "\n",
    "    def fit(self, X, y=None):\n",
    "        self.encoders = {}\n",
    "        columns = X.columns if self.columns is None else self.columns\n",
    "        for col in columns:\n",
    "            self.encoders[col] = preprocessing.LabelEncoder().fit(X[col])\n",
    "        return self\n",
    "\n",
    "\n",
    "    def transform(self, X):\n",
    "        output = X.copy()\n",
    "        columns = X.columns if self.columns is None else self.columns\n",
    "        for col in columns:\n",
    "            output[col] = self.encoders[col].transform(X[col])\n",
    "        return output\n",
    "\n",
    "\n",
    "    def fit_transform(self, X, y=None):\n",
    "        return self.fit(X,y).transform(X)\n",
    "\n",
    "\n",
    "    def inverse_transform(self, X):\n",
    "        output = X.copy()\n",
    "        columns = X.columns if self.columns is None else self.columns\n",
    "        for col in columns:\n",
    "            output[col] = self.encoders[col].inverse_transform(X[col])\n",
    "        return output"
   ]
  },
  {
   "cell_type": "markdown",
   "metadata": {},
   "source": [
    "##### Model definitions"
   ]
  },
  {
   "cell_type": "code",
   "execution_count": 9,
   "metadata": {},
   "outputs": [],
   "source": [
    "class models:\n",
    "\n",
    "    def __init__(self, train_x, train_y, test_x, test_y):\n",
    "        self.train_x = train_x\n",
    "        self.train_y = train_y\n",
    "        self.test_x = test_x\n",
    "        self.test_y = test_y\n",
    "\n",
    "    def randomforest(self):\n",
    "        # Fit the classifier\n",
    "        classifier = RandomForestClassifier().fit(self.train_x, self.train_y)\n",
    "        # Predict the labels of the test set samples\n",
    "        predicted_labels = classifier.predict(self.test_x)\n",
    "\n",
    "        return predicted_labels\n",
    "    def supportvectormachine(self):\n",
    "        # Fit the classifier\n",
    "        classifier = svm.SVC().fit(self.train_x, self.train_y)\n",
    "        # Predict the labels of the test set samples\n",
    "        predicted_labels = classifier.predict(self.test_x)\n",
    "\n",
    "        return predicted_labels\n",
    "\n",
    "    def xgb_boost(self):\n",
    "        # Fit the classifier\n",
    "        classifier = XGBClassifier().fit(self.train_x, self.train_y)\n",
    "         # Predict the labels of the test set samples\n",
    "        predicted_labels = classifier.predict(self.test_x)\n",
    "\n",
    "        return predicted_labels      \n"
   ]
  },
  {
   "cell_type": "code",
   "execution_count": 10,
   "metadata": {},
   "outputs": [],
   "source": [
    "class algorithm:\n",
    "\n",
    "    def __init__(self, name=None, path=None ,cat_cols=None):\n",
    "        self.model_type = name\n",
    "        # self.data_x = X\n",
    "        # self.data_y = y\n",
    "        # self.class_nms = class_nms\n",
    "        self.cat_cols = cat_cols  # cat_cols = ['director_name', 'fuzzy_grp_nms']\n",
    "        self.path = path\n",
    "\n",
    "    def data_curation(self):\n",
    "        # pth_1 = '../data/extract/p_labels.csv'\n",
    "        # pth_2  = '../data/extract/full_output.csv'\n",
    "        df1 = pd.read_csv(self.path)\n",
    "        cls = ['grpcis', 'customer_no', 'director_name', 'fuzzy_grp_nms', 'label']\n",
    "        df1_new = df1[cls]\n",
    "        df1_new.replace({False:0, True:1}, inplace=True)\n",
    "        class_names = df1_new['label'].unique()\n",
    "        X, y = df1_new[['grpcis', 'customer_no', 'director_name', 'fuzzy_grp_nms']], df1_new[['label']]\n",
    "        multi = MultiColumnLabelEncoder(columns=self.cat_cols)\n",
    "        X_enc = multi.fit_transform(X)\n",
    "\n",
    "        return X_enc, y, class_names\n",
    "        \n",
    "        # display(class_names)\n",
    "\n",
    "    def evaluate_model(self, data_x, data_y):\n",
    "        k_fold = KFold(10, shuffle=True, random_state=1)\n",
    "\n",
    "        predicted_targets = np.array([])\n",
    "        actual_targets = np.array([])\n",
    "        print(f'Model Type:{self.model_type}...')\n",
    "        for train_ix, test_ix in k_fold.split(data_x):\n",
    "            train_x, train_y, test_x, test_y = data_x.iloc[train_ix], data_y.iloc[train_ix], data_x.iloc[test_ix], data_y.iloc[test_ix]\n",
    "\n",
    "            # # Fit the classifier\n",
    "            # classifier = svm.SVC().fit(train_x, train_y)\n",
    "\n",
    "            # # Predict the labels of the test set samples\n",
    "            # predicted_labels = classifier.predict(test_x)\n",
    "\n",
    "            model_obj = models(train_x, train_y, test_x, test_y)\n",
    "            if self.model_type == 'svm':\n",
    "                # print(f'{self.model_type}')\n",
    "                predicted_labels = model_obj.supportvectormachine()\n",
    "                predicted_targets = np.append(predicted_targets, predicted_labels)\n",
    "                actual_targets = np.append(actual_targets, test_y)\n",
    "\n",
    "            elif self.model_type == 'randomforest':\n",
    "                # print(self.model_type)\n",
    "                predicted_labels = model_obj.randomforest()\n",
    "                predicted_targets = np.append(predicted_targets, predicted_labels)\n",
    "                actual_targets = np.append(actual_targets, test_y)\n",
    "\n",
    "            elif self.model_type == 'xgb':\n",
    "                # print(self.model_type)\n",
    "                predicted_labels = model_obj.xgb_boost()\n",
    "                predicted_targets = np.append(predicted_targets, predicted_labels)\n",
    "                actual_targets = np.append(actual_targets, test_y)\n",
    "\n",
    "\n",
    "        return predicted_targets, actual_targets\n",
    "\n",
    "    def generate_confusion_matrix(self,cnf_matrix, classes, normalize=False, title='Confusion matrix'):\n",
    "        if normalize:\n",
    "            cnf_matrix = cnf_matrix.astype('float') / cnf_matrix.sum(axis=1)[:, np.newaxis]\n",
    "            print(\"Normalized confusion matrix\")\n",
    "        else:\n",
    "            print('Confusion matrix, without normalization')\n",
    "\n",
    "        plt.imshow(cnf_matrix, interpolation='nearest', cmap=plt.get_cmap('Blues'))\n",
    "        plt.title(title)\n",
    "        plt.colorbar()\n",
    "\n",
    "        tick_marks = np.arange(len(classes))\n",
    "        plt.xticks(tick_marks, classes, rotation=45)\n",
    "        plt.yticks(tick_marks, classes)\n",
    "\n",
    "        fmt = '.2f' if normalize else 'd'\n",
    "        thresh = cnf_matrix.max() / 2.\n",
    "\n",
    "        for i, j in itertools.product(range(cnf_matrix.shape[0]), range(cnf_matrix.shape[1])):\n",
    "            plt.text(j, i, format(cnf_matrix[i, j], fmt), horizontalalignment=\"center\",\n",
    "                    color=\"white\" if cnf_matrix[i, j] > thresh else \"black\")\n",
    "\n",
    "        plt.tight_layout()\n",
    "        plt.ylabel('True label')\n",
    "        plt.xlabel('Predicted label')\n",
    "\n",
    "        return cnf_matrix\n",
    "\n",
    "    # report performance\n",
    "    def plot_confusion_matrix(self, predicted_labels_list, y_test_list, class_nms):\n",
    "        cnf_matrix = confusion_matrix(y_test_list, predicted_labels_list)\n",
    "        # print(cnf_matrix)\n",
    "        # FP = cnf_matrix.sum(axis=0) - np.diag(cnf_matrix)  \n",
    "        # FN = cnf_matrix.sum(axis=1) - np.diag(cnf_matrix)\n",
    "        # TP = np.diag(cnf_matrix)\n",
    "        # TN = cnf_matrix.sum() - (FP + FN + TP)\n",
    "        TN = cnf_matrix[0][0]\n",
    "        FN = cnf_matrix[1][0]\n",
    "        TP = cnf_matrix[1][1]\n",
    "        FP = cnf_matrix[0][1]\n",
    "\n",
    "        # Sensitivity, hit rate, recall, or true positive rate\n",
    "        TPR = TP/(TP+FN)\n",
    "        # Specificity or true negative rate\n",
    "        TNR = TN/(TN+FP) \n",
    "        # Precision or positive predictive value\n",
    "        PPV = TP/(TP+FP)\n",
    "        # Negative predictive value\n",
    "        NPV = TN/(TN+FN)\n",
    "        # Fall out or false positive rate\n",
    "        FPR = FP/(FP+TN)\n",
    "        # False negative rate\n",
    "        FNR = FN/(TP+FN)\n",
    "        # False discovery rate\n",
    "        FDR = FP/(TP+FP)\n",
    "        # Overall accuracy\n",
    "        ACC = (TP+TN)/(TP+FP+FN+TN)\n",
    "        # TN = cnf_matrix.values.sum() - (FP + FN + TP)\n",
    "\n",
    "        print(f'False Positive:{FP}\\nFalse Negative:{FN}\\nTruePositive:{TP}\\nPrecision:{PPV}\\nRecall or HitRate:{TPR}\\\n",
    "        \\nFalse discovery rate:{FDR}\\nFalse negative rate:{FNR}\\nOverall Accuracy:{ACC}')\n",
    "        np.set_printoptions(precision=2)\n",
    "\n",
    "        # Plot non-normalized confusion matrix\n",
    "        plt.figure()\n",
    "        self.generate_confusion_matrix(cnf_matrix, classes=class_nms, title='Confusion matrix, without normalization')\n",
    "        plt.show()\n",
    "\n",
    "        # Plot normalized confusion matrix\n",
    "        plt.figure()\n",
    "        self.generate_confusion_matrix(cnf_matrix, classes=class_nms, normalize=True, title='Normalized confusion matrix')\n",
    "        plt.show()\n",
    "        print('_________________________________________________________________')\n",
    "\n",
    "    "
   ]
  },
  {
   "cell_type": "markdown",
   "metadata": {},
   "source": [
    "### Training on whole data"
   ]
  },
  {
   "cell_type": "code",
   "execution_count": 16,
   "metadata": {},
   "outputs": [],
   "source": [
    "class model_selection:\n",
    "\n",
    "    def __init__(self,name, path, cat_cols, model_path,full_path=None):\n",
    "        self.model_name = name\n",
    "        self.path = path\n",
    "        self.full_path =full_path\n",
    "        self.cat_cols = cat_cols\n",
    "        self.model_path = model_path\n",
    "\n",
    "    def data_curation(self):\n",
    "        # pth_1 = '../data/extract/p_labels.csv'\n",
    "        # pth_2  = '../data/extract/full_output.csv'\n",
    "        df1 = pd.read_csv(self.path)\n",
    "        cls = ['grpcis', 'customer_no', 'director_name', 'fuzzy_grp_nms', 'label']\n",
    "        df1_new = df1[cls]\n",
    "        df1_new.replace({False:0, True:1}, inplace=True)\n",
    "        class_names = df1_new['label'].unique()\n",
    "        X, y = df1_new[['grpcis', 'customer_no', 'director_name', 'fuzzy_grp_nms']], df1_new[['label']]\n",
    "        multi = MultiColumnLabelEncoder(columns=self.cat_cols)\n",
    "        X_enc = multi.fit_transform(X)\n",
    "\n",
    "        return X_enc, y, df1_new\n",
    "\n",
    "    def data_curation_full(self):\n",
    "        print(self.full_path,'.....')\n",
    "        df = pd.read_csv(self.full_path)\n",
    "        df = df[~df['grpcis'].str.contains('[a-zA-Z]')]\n",
    "        df['grpcis'] = df['grpcis'].astype(float)\n",
    "        df['customer_no'] = df['customer_no'].astype(float)\n",
    "        df.rename(columns={'fuzzy_grp_nms_f': 'fuzzy_grp_nms'}, inplace=True)\n",
    "        cls = ['grpcis', 'customer_no', 'director_name', 'fuzzy_grp_nms']\n",
    "        df = df[cls]\n",
    "        # df.replace({False:0, True:1}, inplace=True)\n",
    "        X = df[['grpcis', 'customer_no', 'director_name', 'fuzzy_grp_nms']]\n",
    "        multi = MultiColumnLabelEncoder(columns=self.cat_cols)\n",
    "        X_enc = multi.fit_transform(X)\n",
    "\n",
    "        return X_enc, df\n",
    "\n",
    "    def save_model(self, file_nm, classifier):\n",
    "        path = self.model_path+'/'+file_nm\n",
    "        with open(path, 'wb') as f:\n",
    "            pickle.dump(classifier, f)\n",
    "\n",
    "    def load_model(self, model):\n",
    "        for m_nms in os.listdir(self.model_path):\n",
    "            # print(m_nms)\n",
    "            if m_nms.startswith(model):\n",
    "                print(f'{model} selected...')\n",
    "                path = self.model_path+'/'+m_nms\n",
    "                with open(path, 'rb') as f:\n",
    "                    clf = pickle.load(f)\n",
    "\n",
    "        return clf\n",
    "\n",
    "    def to_export(self, file_name, out, exp_path):\n",
    "        fname = lambda : \"{}_{}.csv\".format(file_name, time.strftime(\"%Y%m%d-%H.%M.%S\"))\n",
    "        path = os.path.join(exp_path, fname())\n",
    "        return out.to_csv(path, index=False)\n",
    "\n",
    "    def predict(self,class_model, x):\n",
    "        predicted_labels = class_model.predict(x)\n",
    "        return  predicted_labels\n",
    "\n",
    "    def final_output(self, classifier, X_enc, out, file_name, exp_path):\n",
    "        labels = self.predict(classifier, X_enc)\n",
    "        print('Predicted all labels...')\n",
    "        out['pred_labels'] = labels\n",
    "        self.to_export(file_name, out, exp_path)\n",
    "        return out, labels\n",
    "        \n",
    "\n",
    "    def evaluate(self, train_x, train_y):\n",
    "        \n",
    "        if self.model_name == 'svm':\n",
    "            print(f'Model Type:{self.model_name}.....')\n",
    "            classifier = svm.SVC().fit(train_x, train_y)\n",
    "            cv = RepeatedStratifiedKFold(n_splits=10, n_repeats=3, random_state=1)\n",
    "            accuracies = cross_val_score(estimator = classifier, X = train_x, y = train_y, cv = cv)\n",
    "            self.save_model('svm_model.pickle', classifier)\n",
    "            print('SVM Model saved...')\n",
    "            # print(\"Mean_SVM_Acc : \", accuracies.mean())\n",
    "            # report performance\n",
    "            print('SVM accuracy: %.3f (%.3f)' % (mean(accuracies), std(accuracies)))\n",
    "\n",
    "        if self.model_name == 'rf':\n",
    "            print(f'Model Type:{self.model_name}.....')\n",
    "            classifier = RandomForestClassifier().fit(train_x, train_y)\n",
    "            cv = RepeatedStratifiedKFold(n_splits=10, n_repeats=3, random_state=1)\n",
    "            accuracies = cross_val_score(estimator = classifier, X = train_x, y = train_y, cv = cv)\n",
    "            self.save_model('rf_model.pickle', classifier)\n",
    "            print('Random Forest Model saved...')\n",
    "            # print(\"Mean_RandomForest_Acc : \", accuracies.mean())\n",
    "            # report performance\n",
    "            print('Rf accuracy: %.3f (%.3f)' % (mean(accuracies), std(accuracies)))\n",
    "\n",
    "        if self.model_name == 'xgb':\n",
    "            print(f'Model Type:{self.model_name}.....')\n",
    "            classifier = XGBClassifier().fit(train_x, train_y)\n",
    "            cv = RepeatedStratifiedKFold(n_splits=10, n_repeats=3, random_state=1)\n",
    "            accuracies = cross_val_score(estimator = classifier, X = train_x, y = train_y, cv = cv)\n",
    "            # print(\"Mean_XGB_Acc : \", accuracies.mean())\n",
    "            # report performance\n",
    "            self.save_model('xgb_model.pickle' , classifier)\n",
    "            print('XGB Model saved...')\n",
    "            print('XGB accuracy: %.3f (%.3f)' % (mean(accuracies), std(accuracies)))\n"
   ]
  },
  {
   "cell_type": "markdown",
   "metadata": {},
   "source": [
    "### Testing all Model Accuracies"
   ]
  },
  {
   "cell_type": "code",
   "execution_count": 12,
   "metadata": {},
   "outputs": [],
   "source": [
    "def run(m_types):\n",
    "    \n",
    "    for i in m_types:\n",
    "        cat_cols = ['director_name', 'fuzzy_grp_nms']\n",
    "        model_obj = algorithm(i,'../data/extract/p_labels.csv', cat_cols)\n",
    "        X_enc, y, class_names = model_obj.data_curation()\n",
    "        predicted_target, actual_target = model_obj.evaluate_model(X_enc, y)\n",
    "        model_obj.plot_confusion_matrix(predicted_target, actual_target, class_names)"
   ]
  },
  {
   "cell_type": "code",
   "execution_count": 13,
   "metadata": {},
   "outputs": [
    {
     "name": "stdout",
     "output_type": "stream",
     "text": [
      "Model Type:svm...\n",
      "False Positive:921\n",
      "False Negative:0\n",
      "TruePositive:6229\n",
      "Precision:0.8711888111888112\n",
      "Recall or HitRate:1.0        \n",
      "False discovery rate:0.1288111888111888\n",
      "False negative rate:0.0\n",
      "Overall Accuracy:0.8711888111888112\n",
      "Confusion matrix, without normalization\n"
     ]
    },
    {
     "data": {
      "image/png": "[encoded data removed]",
      "text/plain": [
       "<Figure size 432x288 with 2 Axes>"
      ]
     },
     "metadata": {
      "needs_background": "light"
     },
     "output_type": "display_data"
    },
    {
     "name": "stdout",
     "output_type": "stream",
     "text": [
      "Normalized confusion matrix\n"
     ]
    },
    {
     "data": {
      "image/png": "[encoded data removed]",
      "text/plain": [
       "<Figure size 432x288 with 2 Axes>"
      ]
     },
     "metadata": {
      "needs_background": "light"
     },
     "output_type": "display_data"
    },
    {
     "name": "stdout",
     "output_type": "stream",
     "text": [
      "_________________________________________________________________\n",
      "Model Type:randomforest...\n",
      "False Positive:353\n",
      "False Negative:136\n",
      "TruePositive:6093\n",
      "Precision:0.9452373565001552\n",
      "Recall or HitRate:0.9781666399100979        \n",
      "False discovery rate:0.05476264349984487\n",
      "False negative rate:0.02183336008990207\n",
      "Overall Accuracy:0.9316083916083916\n",
      "Confusion matrix, without normalization\n"
     ]
    },
    {
     "data": {
      "image/png": "[encoded data removed]",
      "text/plain": [
       "<Figure size 432x288 with 2 Axes>"
      ]
     },
     "metadata": {
      "needs_background": "light"
     },
     "output_type": "display_data"
    },
    {
     "name": "stdout",
     "output_type": "stream",
     "text": [
      "Normalized confusion matrix\n"
     ]
    },
    {
     "data": {
      "image/png": "[encoded data removed]",
      "text/plain": [
       "<Figure size 432x288 with 2 Axes>"
      ]
     },
     "metadata": {
      "needs_background": "light"
     },
     "output_type": "display_data"
    },
    {
     "name": "stdout",
     "output_type": "stream",
     "text": [
      "_________________________________________________________________\n",
      "Model Type:xgb...\n",
      "False Positive:406\n",
      "False Negative:81\n",
      "TruePositive:6148\n",
      "Precision:0.9380530973451328\n",
      "Recall or HitRate:0.9869963075935142        \n",
      "False discovery rate:0.061946902654867256\n",
      "False negative rate:0.013003692406485792\n",
      "Overall Accuracy:0.9318881118881119\n",
      "Confusion matrix, without normalization\n"
     ]
    },
    {
     "data": {
      "image/png": "[encoded data removed]",
      "text/plain": [
       "<Figure size 432x288 with 2 Axes>"
      ]
     },
     "metadata": {
      "needs_background": "light"
     },
     "output_type": "display_data"
    },
    {
     "name": "stdout",
     "output_type": "stream",
     "text": [
      "Normalized confusion matrix\n"
     ]
    },
    {
     "data": {
      "image/png": "[encoded data removed]",
      "text/plain": [
       "<Figure size 432x288 with 2 Axes>"
      ]
     },
     "metadata": {
      "needs_background": "light"
     },
     "output_type": "display_data"
    },
    {
     "name": "stdout",
     "output_type": "stream",
     "text": [
      "_________________________________________________________________\n"
     ]
    }
   ],
   "source": [
    "m_types = ['svm', 'randomforest', 'xgb']\n",
    "run(m_types)"
   ]
  },
  {
   "cell_type": "markdown",
   "metadata": {},
   "source": [
    "### Training on whole data and saving it"
   ]
  },
  {
   "cell_type": "code",
   "execution_count": 17,
   "metadata": {},
   "outputs": [
    {
     "name": "stdout",
     "output_type": "stream",
     "text": [
      "Model Type:svm.....\n",
      "SVM Model saved...\n",
      "SVM accuracy: 0.871 (0.000)\n",
      "Model Type:rf.....\n",
      "Random Forest Model saved...\n",
      "Rf accuracy: 0.934 (0.009)\n",
      "Model Type:xgb.....\n",
      "XGB Model saved...\n",
      "XGB accuracy: 0.934 (0.008)\n"
     ]
    }
   ],
   "source": [
    "cat_cols = ['director_name', 'fuzzy_grp_nms']\n",
    "model_path = '../model'\n",
    "for i in ['svm', 'rf', 'xgb']:\n",
    "    m_obj = model_selection(i, '../data/extract/p_labels.csv', cat_cols, model_path)\n",
    "    X_enc, y, df_new = m_obj.data_curation()\n",
    "    m_obj.evaluate(X_enc,y)"
   ]
  },
  {
   "cell_type": "markdown",
   "metadata": {},
   "source": [
    "### Predict all labels"
   ]
  },
  {
   "cell_type": "markdown",
   "metadata": {},
   "source": [
    "### Labelled data"
   ]
  },
  {
   "cell_type": "code",
   "execution_count": 28,
   "metadata": {},
   "outputs": [
    {
     "name": "stdout",
     "output_type": "stream",
     "text": [
      "svm selected...\n",
      "SVC()\n",
      "Predicted all labels...\n"
     ]
    }
   ],
   "source": [
    "cat_cols = ['director_name', 'fuzzy_grp_nms']\n",
    "f_obj = model_selection(i, '../data/extract/p_labels.csv', cat_cols, model_path, '../data/extract/full_output.csv')\n",
    "X_enc, y, df = f_obj.data_curation()\n",
    "model = f_obj.load_model('svm')\n",
    "print(model)\n",
    "df_out, labels = f_obj.final_output(model, X_enc, df, 'persona_label_sample', '../data/output')\n"
   ]
  },
  {
   "cell_type": "markdown",
   "metadata": {},
   "source": [
    "#### Confusion Matrix"
   ]
  },
  {
   "cell_type": "code",
   "execution_count": 29,
   "metadata": {},
   "outputs": [
    {
     "data": {
      "text/plain": [
       "array([0, 1], dtype=int64)"
      ]
     },
     "execution_count": 29,
     "metadata": {},
     "output_type": "execute_result"
    }
   ],
   "source": [
    "class_names = y['label'].unique()\n",
    "class_names"
   ]
  },
  {
   "cell_type": "code",
   "execution_count": 30,
   "metadata": {},
   "outputs": [
    {
     "name": "stdout",
     "output_type": "stream",
     "text": [
      "False Positive:921\n",
      "False Negative:0\n",
      "TruePositive:6229\n",
      "Precision:0.8711888111888112\n",
      "Recall or HitRate:1.0        \n",
      "False discovery rate:0.1288111888111888\n",
      "False negative rate:0.0\n",
      "Overall Accuracy:0.8711888111888112\n",
      "Confusion matrix, without normalization\n"
     ]
    },
    {
     "data": {
      "image/png": "[encoded data removed]",
      "text/plain": [
       "<Figure size 432x288 with 2 Axes>"
      ]
     },
     "metadata": {
      "needs_background": "light"
     },
     "output_type": "display_data"
    },
    {
     "name": "stdout",
     "output_type": "stream",
     "text": [
      "Normalized confusion matrix\n"
     ]
    },
    {
     "data": {
      "image/png": "[encoded data removed]",
      "text/plain": [
       "<Figure size 432x288 with 2 Axes>"
      ]
     },
     "metadata": {
      "needs_background": "light"
     },
     "output_type": "display_data"
    },
    {
     "name": "stdout",
     "output_type": "stream",
     "text": [
      "_________________________________________________________________\n"
     ]
    }
   ],
   "source": [
    "conf_mat = algorithm()\n",
    "conf_mat.plot_confusion_matrix(labels, y, class_names)"
   ]
  },
  {
   "cell_type": "markdown",
   "metadata": {},
   "source": [
    "#### Whole data"
   ]
  },
  {
   "cell_type": "code",
   "execution_count": 99,
   "metadata": {},
   "outputs": [
    {
     "name": "stdout",
     "output_type": "stream",
     "text": [
      "../data/extract/full_output.csv .....\n",
      "svm selected...\n",
      "SVC()\n",
      "Predicted all labels...\n"
     ]
    }
   ],
   "source": [
    "cat_cols = ['director_name', 'fuzzy_grp_nms']\n",
    "f_obj = model_selection(i, '../data/extract/p_labels.csv', cat_cols, model_path, '../data/extract/full_output.csv')\n",
    "X_enc, df = f_obj.data_curation_full()\n",
    "model = f_obj.load_model('svm')\n",
    "print(model)\n",
    "df_out, labels = f_obj.final_output(model, X_enc, df, 'persona_label', '../data/output')\n"
   ]
  },
  {
   "cell_type": "markdown",
   "metadata": {},
   "source": [
    "### Report"
   ]
  },
  {
   "cell_type": "code",
   "execution_count": 109,
   "metadata": {},
   "outputs": [
    {
     "data": {
      "text/plain": [
       "array([0, 1])"
      ]
     },
     "execution_count": 109,
     "metadata": {},
     "output_type": "execute_result"
    }
   ],
   "source": [
    "np.unique(labels)"
   ]
  },
  {
   "cell_type": "code",
   "execution_count": 110,
   "metadata": {},
   "outputs": [
    {
     "name": "stdout",
     "output_type": "stream",
     "text": [
      "<class 'pandas.core.frame.DataFrame'>\n",
      "RangeIndex: 7150 entries, 0 to 7149\n",
      "Data columns (total 6 columns):\n",
      " #   Column         Non-Null Count  Dtype  \n",
      "---  ------         --------------  -----  \n",
      " 0   grpcis         7150 non-null   float64\n",
      " 1   customer_no    7150 non-null   float64\n",
      " 2   director_name  7150 non-null   object \n",
      " 3   fuzzy_grp_nms  7150 non-null   object \n",
      " 4   label          7150 non-null   int64  \n",
      " 5   pred_labels    7150 non-null   int32  \n",
      "dtypes: float64(2), int32(1), int64(1), object(2)\n",
      "memory usage: 307.4+ KB\n"
     ]
    }
   ],
   "source": [
    "df_out.info()"
   ]
  },
  {
   "cell_type": "code",
   "execution_count": 112,
   "metadata": {},
   "outputs": [
    {
     "data": {
      "text/plain": [
       "1    6229\n",
       "0     921\n",
       "Name: label, dtype: int64"
      ]
     },
     "metadata": {},
     "output_type": "display_data"
    },
    {
     "data": {
      "text/plain": [
       "1    6519\n",
       "0     631\n",
       "Name: pred_labels, dtype: int64"
      ]
     },
     "metadata": {},
     "output_type": "display_data"
    }
   ],
   "source": [
    "data = pd.read_csv('../data/output/persona_label_sample_20220519-16.52.19.csv')\n",
    "display(data['label'].value_counts())\n",
    "display(data['pred_labels'].value_counts())"
   ]
  },
  {
   "cell_type": "code",
   "execution_count": 114,
   "metadata": {},
   "outputs": [],
   "source": [
    "data['validation'] = np.where(data['label']==data['pred_labels'], True, False)"
   ]
  },
  {
   "cell_type": "code",
   "execution_count": 116,
   "metadata": {},
   "outputs": [],
   "source": [
    "data.to_csv('../data/report/personal_labelled_data.csv', index=False)"
   ]
  },
  {
   "cell_type": "code",
   "execution_count": null,
   "metadata": {},
   "outputs": [],
   "source": []
  }
 ],
 "metadata": {
  "interpreter": {
   "hash": "2659eb6637c6e64edc06dd0e46345b29e6d373c66e428362f73297e1ed5e2c69"
  },
  "kernelspec": {
   "display_name": "Python 3.8.0 64-bit",
   "language": "python",
   "name": "python3"
  },
  "language_info": {
   "codemirror_mode": {
    "name": "ipython",
    "version": 3
   },
   "file_extension": ".py",
   "mimetype": "text/x-python",
   "name": "python",
   "nbconvert_exporter": "python",
   "pygments_lexer": "ipython3",
   "version": "3.8.0"
  },
  "orig_nbformat": 4
 },
 "nbformat": 4,
 "nbformat_minor": 2
}
